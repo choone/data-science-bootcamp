{
  "nbformat": 4,
  "nbformat_minor": 0,
  "metadata": {
    "colab": {
      "provenance": [],
      "authorship_tag": "ABX9TyPp3HzdsIfYpenF0ppMoGgZ",
      "include_colab_link": true
    },
    "kernelspec": {
      "name": "python3",
      "display_name": "Python 3"
    },
    "language_info": {
      "name": "python"
    }
  },
  "cells": [
    {
      "cell_type": "markdown",
      "metadata": {
        "id": "view-in-github",
        "colab_type": "text"
      },
      "source": [
        "<a href=\"https://colab.research.google.com/github/choone/data-science-bootcamp/blob/master/intro.ipynb\" target=\"_parent\"><img src=\"https://colab.research.google.com/assets/colab-badge.svg\" alt=\"Open In Colab\"/></a>"
      ]
    },
    {
      "cell_type": "code",
      "execution_count": null,
      "metadata": {
        "colab": {
          "base_uri": "https://localhost:8080/"
        },
        "id": "HjwTkhvzXPls",
        "outputId": "ae52b4b3-398c-4f15-a33c-557243aabd86"
      },
      "outputs": [
        {
          "output_type": "stream",
          "name": "stdout",
          "text": [
            "Hello Collab\n"
          ]
        }
      ],
      "source": [
        "print(\"Hello Collab\")\n"
      ]
    },
    {
      "cell_type": "markdown",
      "source": [
        "###Tekst"
      ],
      "metadata": {
        "id": "dzeuRej9kuBS"
      }
    },
    {
      "cell_type": "code",
      "source": [],
      "metadata": {
        "id": "jKJwvE5XkxrD"
      },
      "execution_count": null,
      "outputs": []
    }
  ]
}